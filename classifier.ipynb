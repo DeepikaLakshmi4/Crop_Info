import numpy as np 
import pandas as pd
import os
for dirname, _, filenames in os.walk('/kaggle/input'):
    for filename in filenames:
        print(os.path.join(dirname, filename))
        
import warnings
warnings.simplefilter(action='ignore', category=FutureWarning)
warnings.simplefilter(action='ignore', category=UserWarning)
import seaborn as sns
import matplotlib.pyplot as plt
%matplotlib inline

df = pd.read_csv('/content/Crop_recommendation.csv')
X = df[['N','P','K','temperature','humidity','ph','rainfall']]

df.head()
df.describe()

sns.heatmap(df.isnull(), cmap="coolwarm")
plt.show()

plt.figure(figsize=(12,5))
plt.subplot(1, 3, 1)
sns.distplot(df['temperature'],color="purple",bins=15,hist_kws={'alpha':0.2})
plt.subplot(1, 3, 2)
sns.distplot(df['ph'],color="green",bins=15,hist_kws={'alpha':0.2})
plt.subplot(1, 3, 3)
sns.distplot(df['humidity'],color="blue",bins=15,hist_kws={'alpha':0.2})

sns.distplot(df['humidity'],color="blue",bins=15,hist_kws={'alpha':0.2})

import plotly.graph_objects as go

df2 = df.copy()

dfg = pd.DataFrame({'label':df2['label'].unique()})
dfg['dummy'] = dfg.index
df2 = pd.merge(df2, dfg, on = 'label', how='left')

dimensions = list([dict(range=[0,df2['dummy'].max()], tickvals = dfg['dummy'], ticktext = dfg['label'], label='Crops', values=df2['dummy']),
                   dict(range=[df2['N'].min(), df2['N'].max()], label='N', values=df2['N']),
                   dict(range=[df2['P'].min(), df2['P'].max()], label='P', values=df2['P']),
                   dict(range=[df2['K'].min(), df2['K'].max()], label='K', values=df2['K']),
                   dict(range=[df2['temperature'].min(), df2['temperature'].max()], label='Temperature', values=df2['temperature']),
                   dict(range=[df2['humidity'].min(), df2['humidity'].max()], label='Humidity', values=df2['humidity']),
                   dict(range=[df2['ph'].min(),df2['ph'].max()], label='pH', values=df2['ph']),
                   dict(range=[df2['rainfall'].min(),df2['rainfall'].max()], label='Rainfall', values=df2['rainfall'])])

fig = go.Figure(data=go.Parcoords(line = dict(color = df2['dummy'], colorscale = 'magma'), dimensions=dimensions))
fig.update_layout(height = 550, width = 1000, title='Crop Feature Distribution', title_font_size=20, title_x=0.5, title_y=0.95)
fig.show()

sns.pairplot(df, hue = 'label')

all_col = df.columns[:-2]

for col in all_col:
  plt.figure(figsize = (16, 9))
  sns.boxplot(x = 'label', y = col, data = df, palette = 'rocket')
  plt.xlabel('label', fontsize = 12)
  plt.ylabel(col, fontsize = 12)
  plt.xticks(rotation=90)
  plt.title(f'{col} vs Crop', fontweight='bold')
  plt.show()
  
sns.heatmap(X.corr())
  
c = df.label.astype('category')
targets = dict(enumerate(c.cat.categories))
df['target'] = c.cat.codes
Y = c.cat.codes
from sklearn.model_selection import train_test_split

X_train, X_test, y_train, y_test = train_test_split(X, Y,random_state=1)
from sklearn.preprocessing import MinMaxScaler

scaler = MinMaxScaler()
X_train_scaled = scaler.fit_transform(X_train)
X_test_scaled = scaler.transform(X_test)

def plot_feature_importance(feature_importances):
    plt.figure(figsize=(10,4), dpi=80)
    c_features = len(X_train.columns)
    plt.barh(range(c_features), feature_importances)
    plt.xlabel("Feature importance")
    plt.ylabel("Feature name")
    plt.yticks(np.arange(c_features), X_train.columns)
    plt.show()
from sklearn.neighbors import KNeighborsClassifier

knn = KNeighborsClassifier()
knn.fit(X_train_scaled, y_train)
knn.score(X_test_scaled, y_test)

from sklearn.metrics import confusion_matrix

predictions = knn.predict(X_test_scaled)
mat = confusion_matrix(y_test, predictions)
df_cm = pd.DataFrame(mat, list(targets.values()), list(targets.values()))
sns.set(font_scale=1.0)
plt.figure(figsize = (12,8))
sns.heatmap(df_cm, annot=True, annot_kws={"size": 12},cmap="terrain")

k_range = range(5, 20)
scores = []

for k in k_range:
    knn = KNeighborsClassifier(n_neighbors = k)
    knn.fit(X_train_scaled, y_train)
    scores.append(knn.score(X_test_scaled, y_test))
    
plt.xlabel('k')
plt.ylabel('accuracy')
plt.scatter(k_range, scores)
plt.vlines(k_range,0, scores, linestyle="dashed")
plt.ylim(0.96,0.99)
plt.xticks([i for i in range(1,11)]);

knn_best = KNeighborsClassifier(n_neighbors=10)
knn_best.fit(X_train_scaled, y_train)
knn_best.score(X_test_scaled, y_test)
